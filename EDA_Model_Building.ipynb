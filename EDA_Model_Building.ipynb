{
 "cells": [
  {
   "cell_type": "code",
   "execution_count": 1,
   "metadata": {},
   "outputs": [],
   "source": [
    "import pandas as pd\n",
    "import numpy as np\n",
    "import matplotlib.pyplot as plt\n",
    "\n",
    "from scipy import stats\n",
    "from sklearn.decomposition import PCA\n",
    "from pprint import pprint"
   ]
  },
  {
   "cell_type": "markdown",
   "metadata": {},
   "source": [
    "<h3> Import Data"
   ]
  },
  {
   "cell_type": "code",
   "execution_count": 2,
   "metadata": {},
   "outputs": [
    {
     "name": "stderr",
     "output_type": "stream",
     "text": [
      "c:\\users\\rupadhyay\\python 3.6\\lib\\site-packages\\ipykernel_launcher.py:7: FutureWarning: Sorting because non-concatenation axis is not aligned. A future version\n",
      "of pandas will change to not sort by default.\n",
      "\n",
      "To accept the future behavior, pass 'sort=False'.\n",
      "\n",
      "To retain the current behavior and silence the warning, pass 'sort=True'.\n",
      "\n",
      "  import sys\n"
     ]
    }
   ],
   "source": [
    "patients = pd.read_csv('./Robo/Data/patient.csv',index_col='PatientGuid').sort_index()\n",
    "diagnosis = pd.read_csv('./Robo/Data/diagnosis.csv',index_col='PatientGuid').sort_index()\n",
    "physicians = pd.read_csv('./Robo/Data/physician_specialty.csv',index_col='PatientGuid').sort_index()\n",
    "transcripts = pd.read_csv('./Robo/Data/transcript.csv',index_col='PatientGuid').sort_index()\n",
    "medications = pd.read_csv('./Robo/Data/medication.csv',index_col='PatientGuid').sort_index()\n",
    "medications.columns = map(lambda x:'med_'+x,medications.columns)\n",
    "data = pd.concat([diagnosis,physicians,transcripts,medications,patients], axis=1)\n",
    "data.fillna(0,inplace=True)\n",
    "\n",
    "#create artificial IDs, to keep track of training and validation sets later\n",
    "\n",
    "data['ID'] = range(data.shape[0])\n"
   ]
  },
  {
   "cell_type": "markdown",
   "metadata": {},
   "source": [
    "Separate different independent variables by data types. Set numerical and categorical apart"
   ]
  },
  {
   "cell_type": "code",
   "execution_count": 3,
   "metadata": {},
   "outputs": [],
   "source": [
    "target = 'DMIndicator'\n",
    "categorical = ['Gender','State']\n",
    "categorical += [x for x in data.columns if 'Icd' in x]\n",
    "categorical += [x for x in data.columns if 'PhySp' in x]\n",
    "numerical = data[[x for x in data.columns if (x not in categorical)]].columns.tolist()\n",
    "categorical += ['ID']\n",
    "\n"
   ]
  },
  {
   "cell_type": "markdown",
   "metadata": {},
   "source": [
    "### Exploratory Data Analysis - \n",
    "Create functions to quickly view visualizations "
   ]
  },
  {
   "cell_type": "code",
   "execution_count": 4,
   "metadata": {},
   "outputs": [],
   "source": [
    "def hist_numerical(df,col,nbins=10,target='DMIndicator',yscale='linear',normalize=False):\n",
    "    x = df[col]\n",
    "    hy1,hx1 = np.histogram(df[col][df[target] == 1],bins=nbins,normed=normalize)\n",
    "    hy2,hx2 = np.histogram(df[col][df[target] == 0],bins=hx1,normed=normalize)\n",
    "    w = 0.4*(hx1[1]-hx1[0])\n",
    "    plt.figure(figsize=(5,3))\n",
    "    plt.bar(hx1[:-1],hy1,width=w,color='blue',edgecolor='none')\n",
    "    plt.bar(hx2[:-1]+w,hy2,width=w,color='green',edgecolor='none')\n",
    "    plt.xlabel(col)\n",
    "    plt.ylabel(\"Count\")\n",
    "    plt.yscale(yscale)\n",
    "    plt.legend([1,0],title=target)\n",
    "    print (col, stats.ttest_ind(df[col][df[target] == 1],df[col][df[target] == 0]))\n",
    "    \n",
    "def bar_categorical(df,col,target='DMIndicator',yscale='linear',normalize=False,title_on=False):\n",
    "    \n",
    "    x = pd.concat([df[df[target] == 1][col].value_counts(normalize = normalize),\n",
    "                   df[df[target] == 0][col].value_counts(normalize = normalize)],axis=1)\n",
    "    x.columns = [1,0]\n",
    "    w = 0.4*(x.index[1] - x.index[0])\n",
    "    plt.bar(x.index,x[1],color='b',width=w)\n",
    "    plt.bar(x.index+w,x[0],color='g',width=w)\n",
    "    if col != target: plt.xticks(x.index+w,x.index)\n",
    "    else:plt.xticks([0.6,1.2],x.index)\n",
    "    plt.yscale(yscale)\n",
    "    plt.xlabel(col.split('_')[-1])\n",
    "    if not normalize:plt.ylabel('Count')\n",
    "    else:plt.ylabel('Frequency')\n",
    "    plt.legend([1,0],title=target.split('_')[-1])\n",
    "    if title_on: plt.title('Distribution of '+col.split('_')[-1])\n",
    "    x.columns = [target.split('_')[-1]+'_1',target.split('_')[-1]+'_0']\n",
    "    x.index = map(lambda x:col.split('_')[-1]+'_'+str(x),x.index)\n",
    "    return x\n",
    "\n",
    "\n",
    "def box_numerical(df,col,target='DMIndicator',ylim=[0,25]):\n",
    "    \n",
    "    plt.figure(figsize=(5,3))\n",
    "    plt.boxplot([df[col][df[target] == 0],df[col][df[target] == 1]])\n",
    "    plt.xticks([1,2],[0,1])\n",
    "    plt.ylim(ylim)\n",
    "    plt.ylabel(col)\n",
    "    print (col,stats.ttest_ind(df[col][df[target] == 1],df[col][df[target] == 0]))\n",
    "    "
   ]
  },
  {
   "cell_type": "markdown",
   "metadata": {},
   "source": [
    "#### Use above functions to visualize data and run statistical tests"
   ]
  },
  {
   "cell_type": "code",
   "execution_count": 5,
   "metadata": {},
   "outputs": [
    {
     "name": "stdout",
     "output_type": "stream",
     "text": [
      "AcuteCount Ttest_indResult(statistic=0.2668335437764089, pvalue=0.7896028580400105)\n"
     ]
    },
    {
     "data": {
      "image/png": "[encoded data removed]",
      "text/plain": [
       "<Figure size 360x216 with 1 Axes>"
      ]
     },
     "metadata": {},
     "output_type": "display_data"
    }
   ],
   "source": [
    "n = 3\n",
    "hist_numerical(data,numerical[n],nbins=20,yscale='linear',normalize=False)\n",
    "#hist_numerical(data,'Age',nbins=20,yscale='linear',normalize=True)\n",
    "#hist_numerical(data,'BMI_Max',nbins=20,yscale='linear',normalize=True)\n",
    "#box_numerical(data,'BMI_Max',ylim=[15,45])\n",
    "#plt.show()\n",
    "#print (numerical[n], n,'/',len(numerical))"
   ]
  },
  {
   "cell_type": "code",
   "execution_count": 6,
   "metadata": {},
   "outputs": [
    {
     "data": {
      "image/png": "[encoded data removed]",
      "text/plain": [
       "<Figure size 432x288 with 1 Axes>"
      ]
     },
     "metadata": {},
     "output_type": "display_data"
    }
   ],
   "source": [
    "bar_categorical(data,col='DMIndicator',target='Gender',yscale='linear',title_on=False, normalize=True)\n",
    "plt.show()"
   ]
  },
  {
   "cell_type": "code",
   "execution_count": 7,
   "metadata": {},
   "outputs": [
    {
     "data": {
      "image/png": "[encoded data removed]",
      "text/plain": [
       "<Figure size 432x288 with 1 Axes>"
      ]
     },
     "metadata": {},
     "output_type": "display_data"
    }
   ],
   "source": [
    "tfidf_agg = medications.sum().sort_values(ascending=False)\n",
    "d_tfidf_agg = -(tfidf_agg - tfidf_agg.shift())#.sort_values()\n",
    "tfidf_agg.plot()\n",
    "#d_tfidf_agg.plot()\n",
    "plt.yscale('log')\n",
    "plt.title(\"Aggregate Term Frequency\")\n",
    "plt.xticks(rotation=90)\n",
    "plt.legend(['tf-idf','derivative'])\n",
    "plt.show()"
   ]
  },
  {
   "cell_type": "code",
   "execution_count": 9,
   "metadata": {},
   "outputs": [
    {
     "data": {
      "image/png": "[encoded data removed]",
      "text/plain": [
       "<Figure size 432x288 with 1 Axes>"
      ]
     },
     "metadata": {},
     "output_type": "display_data"
    },
    {
     "data": {
      "text/html": [
       "<div>\n",
       "<style scoped>\n",
       "    .dataframe tbody tr th:only-of-type {\n",
       "        vertical-align: middle;\n",
       "    }\n",
       "\n",
       "    .dataframe tbody tr th {\n",
       "        vertical-align: top;\n",
       "    }\n",
       "\n",
       "    .dataframe thead th {\n",
       "        text-align: right;\n",
       "    }\n",
       "</style>\n",
       "<table border=\"1\" class=\"dataframe\">\n",
       "  <thead>\n",
       "    <tr style=\"text-align: right;\">\n",
       "      <th></th>\n",
       "      <th>zithromax_1</th>\n",
       "      <th>zithromax_0</th>\n",
       "    </tr>\n",
       "  </thead>\n",
       "  <tbody>\n",
       "    <tr>\n",
       "      <th>DMIndicator_0</th>\n",
       "      <td>0.844291</td>\n",
       "      <td>0.805198</td>\n",
       "    </tr>\n",
       "    <tr>\n",
       "      <th>DMIndicator_1</th>\n",
       "      <td>0.155709</td>\n",
       "      <td>0.194802</td>\n",
       "    </tr>\n",
       "  </tbody>\n",
       "</table>\n",
       "</div>"
      ],
      "text/plain": [
       "               zithromax_1  zithromax_0\n",
       "DMIndicator_0     0.844291     0.805198\n",
       "DMIndicator_1     0.155709     0.194802"
      ]
     },
     "execution_count": 9,
     "metadata": {},
     "output_type": "execute_result"
    }
   ],
   "source": [
    "highest_lowest_tfidf = tfidf_agg[(tfidf_agg<0.2) | (tfidf_agg>50)].index.tolist()\n",
    "col = highest_lowest_tfidf[9]\n",
    "df = 1*(data[[col]+['DMIndicator']]>0)\n",
    "xx = bar_categorical(df,col='DMIndicator',target=col,normalize=True)\n",
    "plt.show()\n",
    "xx"
   ]
  },
  {
   "cell_type": "code",
   "execution_count": 8,
   "metadata": {},
   "outputs": [],
   "source": [
    "#after having a look at each variable, consider noting down those found not import according to the stat tests\n",
    "non_important = ['DiagnosisFreq','AcuteCount','Height_Max','Temperature_Max','Weight_Min','BMI_Min',\n",
    "                 'RespiratoryRate_Min','Temperature_Std','Height_Mean','Height_Change','RespiratoryRate_Change',\n",
    "                 'Temperature_Change']"
   ]
  },
  {
   "cell_type": "markdown",
   "metadata": {},
   "source": [
    "## Model \n",
    "##### First prepare different set of labels as we optimize and cross validate proposed model. Then, we split the data into training and validation sets."
   ]
  },
  {
   "cell_type": "code",
   "execution_count": 12,
   "metadata": {},
   "outputs": [],
   "source": [
    "#import scikit learn libraries\n",
    "from sklearn import cross_validation, metrics #model optimization and valuation tool\n",
    "from sklearn.grid_search import GridSearchCV #performing grid search\n",
    "from sklearn.model_selection import train_test_split\n",
    "from sklearn.ensemble import GradientBoostingClassifier\n"
   ]
  },
  {
   "cell_type": "code",
   "execution_count": 13,
   "metadata": {},
   "outputs": [],
   "source": [
    "#create functions to tune parameters\n",
    "\n",
    "def modelfit(alg,dtrain,predictors,target,scoring_method,performCV=True,printFeatureImportance=True,cv_folds=5):\n",
    "    #Train the algorithm on data, This functions train the model given as 'alg' by performing cross-validation\n",
    "    alg.fit(dtrain[predictors],dtrain[target])\n",
    "    \n",
    "    #predict on training set\n",
    "    dtrain_predictions = alg.predict(dtrain[predictors])\n",
    "    if scoring_method == 'roc_auc':\n",
    "        dtrain_predprob = alg.predict_proba(dtrain[predictors]) [:,1]\n",
    "    \n",
    "    #Perform cross validation\n",
    "    if performCV:\n",
    "        cv_score = cross_validation.cross_val_score(alg,dtrain[predictors],dtrain[target],cv=cv_folds,scoring=scoring_method)\n",
    "        #print model report\n",
    "        print (\"\\n Model Report: \")\n",
    "        if (scoring_method == 'roc_auc'):\n",
    "            print(\"Accuracy : \",metrics.accuracy_score(dtrain[target].values,dtrain_predictions))\n",
    "            print(\"AUC score (Train):\", metrics.roc_auc_score(dtrain[target],dtrain_predprob))  \n",
    "        \n",
    "        if (scoring_method == 'mean_squared_error'):\n",
    "            print(\"Accuracy : \",metrics.mean_squared_error(dtrain[target].values,dtrain_predictions))\n",
    "    \n",
    "    if performCV:\n",
    "        print(\"CV Score - Mean : %.7g | Std : %.7g | Min : %.7g | Max : %.7g\" % (np.mean(cv_score),np.std(cv_score),np.min(cv_score),np.max(cv_score)))\n",
    "        \n",
    "    #Print Feature importance\n",
    "    if printFeatureImportance:\n",
    "        if dir(alg)[0] == '_Booster':\n",
    "            feat_imp = pd.Series(alg.booster().get_fscore()).sort_values(ascending=False)\n",
    "            \n",
    "        else:\n",
    "            feat_imp = pd.Series(alg.feature_importances_,predictors).sort_values(ascending=False)\n",
    "            \n",
    "        feat_imp.plot(kind='bar',title='Feature Importances')\n",
    "        plt.ylabel('Feature Importance score')\n",
    "        plt.show()\n",
    "        \n",
    "    return alg\n",
    "\n",
    "def optimize_num_trees(alg,param_test,scoring_method,train,predictors,target):\n",
    "    #This functions is used to tune paremeters of a predictive algorithm\n",
    "    gsearch = GridSearchCV(estimator=alg, param_grid = param_test, scoring = scoring_method, n_jobs=2,iid=False, cv=5)\n",
    "    gsearch.fit(train[predictors],train[target])\n",
    "    return gsearch\n",
    "    \n",
    "    "
   ]
  },
  {
   "cell_type": "code",
   "execution_count": 26,
   "metadata": {
    "scrolled": false
   },
   "outputs": [
    {
     "data": {
      "text/plain": [
       "'ID'"
      ]
     },
     "execution_count": 26,
     "metadata": {},
     "output_type": "execute_result"
    }
   ],
   "source": [
    "#Create different set of labels \n",
    "labels1 = []\n",
    "labels2 = numerical[:]\n",
    "labels2.pop(labels2.index('DMIndicator'))\n",
    "labels3 = list(filter(lambda x: not x.startswith('med'),list(set(numerical).difference(set(non_important)))))\n",
    "labels3.pop(labels3.index('DMIndicator'))\n",
    "labels4 = categorical[:]\n",
    "labels5 = ['ID','Icd9_390-459', 'State', 'Icd9_240-279', 'PhySp_Internal_Medicine', 'PhySp_Family_Practice', 'PhySp_General_Practice', 'Icd9_780-799', 'PhySp_Unknown', 'Icd9_710-739', 'Icd9_E-V', 'Gender', 'PhySp_Geriatric_Medicine', 'Icd9_290-319', 'PhySp_Podiatry', 'PhySp_Cardiovascular_Disease', 'PhySp_Pulmonary_Disease', 'Icd9_580-629', 'PhySp_Endocrinology__Diabetes__Metabolism', 'PhySp_Adolescent_Medicine', 'PhySp_Nephrology', 'Icd9_280-289', 'Icd9_460-519', 'Icd9_320-359', 'Icd9_680-709', 'Icd9_520-579']\n",
    "labels6 = list(filter(lambda x: x.startswith('med'),data.columns))+['ID']\n",
    "#labels6 = list(set(labels6).difference(set(highest_lowest_tfidf)))\n",
    "\n",
    "#split data into training and validation sets\n",
    "_Xtrain,_Xvalid,_Ytrain,_Yvalid = train_test_split(data[labels6],data[target],test_size=1/4.,random_state=123)\n",
    "_train_ids = _Xtrain.ID.tolist()\n",
    "_valid_ids = _Xvalid.ID.tolist()\n",
    "\n",
    "labels2.pop(labels2.index('ID'))\n",
    "labels3.pop(labels3.index('ID'))\n",
    "labels4.pop(labels4.index('ID'))\n",
    "labels5.pop(labels5.index('ID'))\n",
    "labels6.pop(labels6.index('ID'))\n"
   ]
  },
  {
   "cell_type": "markdown",
   "metadata": {},
   "source": [
    "#### Optimizing parameters to tune the Model"
   ]
  },
  {
   "cell_type": "code",
   "execution_count": 41,
   "metadata": {
    "scrolled": true
   },
   "outputs": [
    {
     "name": "stdout",
     "output_type": "stream",
     "text": [
      "Best Parameters:\n",
      "\t {'n_estimators': 150}\n",
      "Best Score:\n",
      "\t 0.7064692456611624\n",
      "Grid Scores:\n",
      "[mean: 0.65214, std: 0.01388, params: {'n_estimators': 10},\n",
      " mean: 0.67488, std: 0.01585, params: {'n_estimators': 30},\n",
      " mean: 0.68537, std: 0.01473, params: {'n_estimators': 50},\n",
      " mean: 0.69282, std: 0.02066, params: {'n_estimators': 70},\n",
      " mean: 0.69854, std: 0.02393, params: {'n_estimators': 90},\n",
      " mean: 0.70091, std: 0.02090, params: {'n_estimators': 110},\n",
      " mean: 0.70247, std: 0.02099, params: {'n_estimators': 130},\n",
      " mean: 0.70647, std: 0.02032, params: {'n_estimators': 150}]\n",
      "\n",
      " Model Report: \n",
      "Accuracy :  0.8312558638252245\n",
      "AUC score (Train): 0.7821724006317572\n",
      "CV Score - Mean : 0.7064692 | Std : 0.02031813 | Min : 0.6869453 | Max : 0.7324134\n",
      "ROC AUC: 0.689884503560918\n"
     ]
    }
   ],
   "source": [
    "gbm1 = GradientBoostingClassifier(\n",
    "    learning_rate = 0.1,\n",
    "    min_samples_split = 2,\n",
    "    max_depth = 2,\n",
    "    max_features='auto',\n",
    "    subsample=0.8,\n",
    "    random_state=10\n",
    ")\n",
    "train = _Xtrain.copy()\n",
    "\n",
    "train['DMIndicator'] = _Ytrain\n",
    "param_test = {'n_estimators': np.arange(10,151,20)} #labels5->range(250,501,20), labels6->range(10,151,20)\n",
    "predictors = labels6\n",
    "#train[predictors] = standardize(train[predictors])\n",
    "\n",
    "# optimize number of trees\n",
    "gs_cls = optimize_num_trees(gbm1,param_test,'roc_auc',train,predictors,target)\n",
    "print (\"Best Parameters:\\n\\t\",gs_cls.best_params_)\n",
    "print (\"Best Score:\\n\\t\",gs_cls.best_score_)\n",
    "print (\"Grid Scores:\")\n",
    "pprint(gs_cls.grid_scores_)\n",
    "\n",
    "\n",
    "# cross validate the best model with optimized number of estimators\n",
    "alg = modelfit(gs_cls.best_estimator_,train,predictors,target,'roc_auc',printFeatureImportance=False)\n",
    "\n",
    "# testing on a different set\n",
    "ypred = gs_cls.best_estimator_.predict(_Xvalid[predictors])\n",
    "print (\"ROC AUC:\", metrics.roc_auc_score(ypred,_Yvalid))\n",
    "\n",
    "#Best parameter for labels6 is n_estimators = 150\n",
    "\n",
    "\n"
   ]
  },
  {
   "cell_type": "markdown",
   "metadata": {},
   "source": [
    "#### Use optimized parameters to make final predictions"
   ]
  },
  {
   "cell_type": "code",
   "execution_count": 43,
   "metadata": {},
   "outputs": [
    {
     "name": "stdout",
     "output_type": "stream",
     "text": [
      "Training models\n",
      "---------------\n",
      "-- Numerical variables --\n",
      "\n",
      " Model Report: \n",
      "Accuracy :  0.8234821069561721\n",
      "AUC score (Train): 0.8135981936323368\n",
      "CV Score - Mean : 0.7728041 | Std : 0.01484019 | Min : 0.7492446 | Max : 0.7921707\n",
      "-- Categorical variables --\n",
      "\n",
      " Model Report: \n",
      "Accuracy :  0.8339364696421391\n",
      "AUC score (Train): 0.827498807830612\n",
      "CV Score - Mean : 0.7743218 | Std : 0.009253442 | Min : 0.7620274 | Max : 0.7905083\n",
      "-- Medication Names --\n",
      "\n",
      " Model Report: \n",
      "Accuracy :  0.8324621364428361\n",
      "AUC score (Train): 0.7852540776351796\n",
      "CV Score - Mean : 0.7003864 | Std : 0.01776058 | Min : 0.6782328 | Max : 0.7221127\n"
     ]
    }
   ],
   "source": [
    "# prep training and validation\n",
    "train = data[data.ID.isin(_train_ids)]\n",
    "valid = data[data.ID.isin(_valid_ids)]\n",
    "\n",
    "# set optimized parameters\n",
    "gbm_num = GradientBoostingClassifier(n_estimators = 90,learning_rate = 0.1,\n",
    "                                     min_samples_split=2,max_depth=2,max_features='auto',\n",
    "                                     subsample=0.8,random_state = 10)\n",
    "gbm_cat = GradientBoostingClassifier(n_estimators = 350,learning_rate = 0.1,\n",
    "                                     min_samples_split=2,max_depth=2,max_features='auto',\n",
    "                                     subsample=0.8,random_state = 10)\n",
    "gbm_med = GradientBoostingClassifier(n_estimators= 150, learning_rate=0.1,\n",
    "                                     min_samples_split=2, max_depth=2, max_features='auto',\n",
    "                                     subsample=0.8,random_state = 10)\n",
    "\n",
    "#train the model\n",
    "print (\"Training models\")\n",
    "print (\"---------------\")\n",
    "print (\"-- Numerical variables --\")\n",
    "alg_num = modelfit(gbm_num,train,labels3,target,'roc_auc',printFeatureImportance=False)\n",
    "print (\"-- Categorical variables --\")\n",
    "alg_cat = modelfit(gbm_cat,train,labels5,target,'roc_auc',printFeatureImportance=False)\n",
    "print (\"-- Medication Names --\")\n",
    "alg_med = modelfit(gbm_med,train,labels6,target,'roc_auc',printFeatureImportance=False)"
   ]
  },
  {
   "cell_type": "code",
   "execution_count": 46,
   "metadata": {},
   "outputs": [
    {
     "name": "stdout",
     "output_type": "stream",
     "text": [
      "====== Model validation ======\n",
      "Summary results\n",
      "ROC AUC - numerical variables model: 0.691\n",
      "ROC AUC - categorical variables model: 0.69\n",
      "ROC AUC - medication names model: 0.736\n",
      "ROC AUC - ensemble model: 0.806\n"
     ]
    }
   ],
   "source": [
    "#Make Predictions\n",
    "ypred_num = alg_num.predict(valid[labels3])\n",
    "ypred_cat = alg_cat.predict(valid[labels5])\n",
    "ypred_med = alg_med.predict(valid[labels6])\n",
    "ypredprob_num = alg_num.predict_proba(valid[labels3])[:,1]\n",
    "ypredprob_cat = alg_cat.predict_proba(valid[labels5])[:,1]\n",
    "ypredprob_med = alg_med.predict_proba(valid[labels6])[:,1]\n",
    "\n",
    "#create an ensemble of models based of categorical and numerical variables\n",
    "ypred_combo = ((0.5*ypredprob_num + 0.0*ypredprob_cat +0.5*ypredprob_med)>0.5)*1\n",
    "\n",
    "print (\"====== Model validation ======\")\n",
    "print (\"Summary results\")\n",
    "print (\"ROC AUC - numerical variables model:\", round(metrics.roc_auc_score(ypred_num,valid[target]),3))\n",
    "print (\"ROC AUC - categorical variables model:\", round(metrics.roc_auc_score(ypred_cat,valid[target]),3))\n",
    "print (\"ROC AUC - medication names model:\", round(metrics.roc_auc_score(ypred_med,valid[target]),3))\n",
    "print (\"ROC AUC - ensemble model:\", round(metrics.roc_auc_score(ypred_combo,valid[target]),3))\n",
    "\n"
   ]
  },
  {
   "cell_type": "markdown",
   "metadata": {},
   "source": [
    "### Optimize weights for the final ensemble model\n",
    "\n",
    "Use a Modified Gradient Descent algorithm to find the best weights to allocate to each of the three models"
   ]
  },
  {
   "cell_type": "code",
   "execution_count": 66,
   "metadata": {},
   "outputs": [
    {
     "name": "stdout",
     "output_type": "stream",
     "text": [
      "1 - AUC: 0.09290608625554209 \tweights: [0.453, 0.153, 0.253]\n",
      "====== Optimized ensemble model ======\n",
      "ROC AUC - ensemble model: 0.907\n"
     ]
    }
   ],
   "source": [
    "def loss(w,yps):\n",
    "    yp_combo = ((w[0]*yps[0]+w[1]*yps[1]+w[2]*yps[2])>0.5)*1\n",
    "    return 1-metrics.roc_auc_score(yp_combo,valid[target])\n",
    "\n",
    "\n",
    "def dloss(w,yps,learning_rate = 0.0001):\n",
    "    dw = [metrics.roc_auc_score(yps[0]>0.5,valid[target]),\n",
    "          metrics.roc_auc_score(yps[0]>0.5,valid[target]),\n",
    "          metrics.roc_auc_score(yps[0]>0.5,valid[target])]\n",
    "    w = [w[i] - (learning_rate*dw[i]) for i in range(len(w))]\n",
    "    try:\n",
    "        error = loss(w,yps)\n",
    "        return [w,error]\n",
    "    except:\n",
    "        pass\n",
    "        return [w,1000]\n",
    "    \n",
    "\n",
    "def optimize(w,yps,learning_rate = 0.0001,n_iters = 1000,plot_error=False):\n",
    "    r = [w,loss(w,yps)]\n",
    "    for i in range(n_iters):\n",
    "        r.append(dloss(r[-1][0],yps,learning_rate=learning_rate))\n",
    "    if plot_error:\n",
    "        plt.plot(map(lambda x:x[1],r))\n",
    "        plt.show()\n",
    "    return r[-1][0]\n",
    "#dloss([.5,.2,.3],[ypredprob_num,ypredprob_cat,ypredprob_med], learning_rate=0.01)\n",
    "#optimize([0.5,.3,.2],[ypredprob_num,ypredprob_cat,ypredprob_med],learning_rate=0.01,plot_error=True)\n",
    "w0 = [.5,.2,.3]\n",
    "yps0 = [ypredprob_num,ypredprob_cat,ypredprob_med]\n",
    "ers = []\n",
    "ws = []\n",
    "for i in range(1000):\n",
    "    w0,er =  dloss(w0,yps0, learning_rate= 0.001)\n",
    "    ws.append(w0)\n",
    "    ers.append(er)\n",
    "#plt.plot(er)\n",
    "#plt.show()\n",
    "n = ers.index(min(ers))\n",
    "w_opt = list(map(lambda x:round(x,3),ws[n]))\n",
    "print (\"1 - AUC:\",ers[n],\"\\tweights:\",w_opt)\n",
    "\n",
    "print (\"====== Optimized ensemble model ======\")\n",
    "ypred_combo = ((w_opt[0]*ypredprob_num + w_opt[1]*ypredprob_cat + w_opt[2]*ypredprob_med)>0.5)*1\n",
    "print (\"ROC AUC - ensemble model:\", round(metrics.roc_auc_score(ypred_combo,valid[target]),3))"
   ]
  },
  {
   "cell_type": "code",
   "execution_count": null,
   "metadata": {},
   "outputs": [],
   "source": []
  },
  {
   "cell_type": "code",
   "execution_count": null,
   "metadata": {},
   "outputs": [],
   "source": []
  }
 ],
 "metadata": {
  "kernelspec": {
   "display_name": "Python 3",
   "language": "python",
   "name": "python3"
  },
  "language_info": {
   "codemirror_mode": {
    "name": "ipython",
    "version": 3
   },
   "file_extension": ".py",
   "mimetype": "text/x-python",
   "name": "python",
   "nbconvert_exporter": "python",
   "pygments_lexer": "ipython3",
   "version": "3.6.5"
  }
 },
 "nbformat": 4,
 "nbformat_minor": 2
}
